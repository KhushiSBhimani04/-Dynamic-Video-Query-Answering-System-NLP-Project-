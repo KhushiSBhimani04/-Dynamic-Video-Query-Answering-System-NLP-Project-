{
 "cells": [
  {
   "cell_type": "code",
   "execution_count": 35,
   "id": "e4fb5c49",
   "metadata": {},
   "outputs": [],
   "source": [
    "from youtube_transcript_api import YouTubeTranscriptApi as YTA"
   ]
  },
  {
   "cell_type": "code",
   "execution_count": 36,
   "id": "ef48e104",
   "metadata": {},
   "outputs": [
    {
     "name": "stdout",
     "output_type": "stream",
     "text": [
      "YouTube Link: https://www.youtube.com/watch?v=3te6TZztQ00\n"
     ]
    }
   ],
   "source": [
    "link=input(\"YouTube Link: \")"
   ]
  },
  {
   "cell_type": "code",
   "execution_count": 37,
   "id": "3488f1fa",
   "metadata": {},
   "outputs": [],
   "source": [
    "videoid = link.split(\"v=\")[1]"
   ]
  },
  {
   "cell_type": "code",
   "execution_count": 38,
   "id": "ff57db0e",
   "metadata": {
    "scrolled": false
   },
   "outputs": [
    {
     "name": "stdout",
     "output_type": "stream",
     "text": [
      "[{'text': 'There are more twins today than ever.', 'start': 1.09, 'duration': 2.35}, {'text': 'This is because the later you decide to give\\nbirth, the higher your chances to get twins', 'start': 3.44, 'duration': 4.49}, {'text': '— and people today tend to create families\\nlater than ever before.', 'start': 7.93, 'duration': 6.2}, {'text': 'There are more living things on and inside\\nyour body than there are people on Earth.', 'start': 14.13, 'duration': 4.73}, {'text': 'And not just twice or three times so — the\\nnumbers are simply mind-blowing.', 'start': 18.86, 'duration': 7.499}, {'text': 'Speaking of which, bacteria make up from 2\\nto 9 pounds of your body weight.', 'start': 26.359, 'duration': 4.721}, {'text': 'It’s hard to imagine how many of them there\\nare in your body.', 'start': 31.08, 'duration': 5.37}, {'text': 'If you have a kid, be prepared for question\\nbombardment: an average four-year-old asks', 'start': 36.45, 'duration': 5.199}, {'text': 'something over 400 times per day.', 'start': 41.649, 'duration': 2.191}, {'text': 'There’s a chili pepper that you can’t\\neat if you want to stay alive.', 'start': 43.84, 'duration': 5.14}, {'text': 'It’s never used in cooking, though: it was\\ndesigned as a painkiller.', 'start': 48.98, 'duration': 6.22}, {'text': 'Scientists believe Leonardo da Vinci could\\nwrite with one hand and draw pictures with', 'start': 55.2, 'duration': 3.83}, {'text': 'the other at the same time.', 'start': 59.03, 'duration': 1.869}, {'text': 'Talk about multitasking!', 'start': 60.899, 'duration': 2.981}, {'text': 'Your outer skin gets totally replaced each\\nmonth.', 'start': 63.88, 'duration': 3.269}, {'text': 'Overall, an average human sheds about 40 pounds\\nof skin throughout their life.', 'start': 67.149, 'duration': 5.31}, {'text': 'There’s a room in the Microsoft’s headquarters\\nin Washington that holds a world record for', 'start': 72.459, 'duration': 5.781}, {'text': 'being the quietest room in the world.', 'start': 78.24, 'duration': 2.879}, {'text': 'Standing inside it, you can hear your heart\\nbeating.', 'start': 81.119, 'duration': 5.0}, {'text': 'In August 2010, Beijing witnessed the longest\\ntraffic jam ever: it lasted 10 days and was', 'start': 86.119, 'duration': 6.42}, {'text': '62 mi long.', 'start': 92.539, 'duration': 3.39}, {'text': 'The Metric system is the most widely accepted\\nsystem of measurement in the world.', 'start': 95.929, 'duration': 4.54}, {'text': 'Only three countries still use the imperial\\nunits: Liberia, Myanmar, and the US.', 'start': 100.469, 'duration': 7.57}, {'text': 'John D. Rockefeller still holds the record\\nas the richest man in the world: his net worth,', 'start': 108.039, 'duration': 5.731}, {'text': 'adjusted for inflation, is 10 times more than\\nthat of Bill Gates.', 'start': 113.77, 'duration': 6.389}, {'text': 'Starfish can not only regenerate their lost\\nlimbs, but even a limb can regenerate the', 'start': 120.159, 'duration': 5.161}, {'text': 'whole starfish.', 'start': 125.32, 'duration': 4.339}, {'text': 'Thanks to the Montreal Protocol, signed in\\n1987, scientists believe the Earth’s ozone', 'start': 129.659, 'duration': 5.701}, {'text': 'layer will fully restore itself within half\\na century.', 'start': 135.36, 'duration': 4.66}, {'text': 'Yay!', 'start': 140.02, 'duration': 1.07}, {'text': 'In 2011, Forbes decided to estimate the net\\nworth of Scrooge McDuck.', 'start': 141.09, 'duration': 4.369}, {'text': 'They came to a conclusion that it was $44.1\\nbillion.', 'start': 145.459, 'duration': 8.17}, {'text': 'If taken together, all ants in the world will\\nweigh as much as the whole human population', 'start': 153.629, 'duration': 4.881}, {'text': 'of the planet, and then some.', 'start': 158.51, 'duration': 3.8}, {'text': 'Chicken are more than twice as numerous as\\nhumans.', 'start': 162.31, 'duration': 2.83}, {'text': 'In 2009, their overall number in the world\\nwas estimated to be 18.6 billion.', 'start': 165.14, 'duration': 8.83}, {'text': 'Purple is the least popular color when it\\ncomes to national flags.', 'start': 173.97, 'duration': 3.73}, {'text': 'There are just two countries in the world\\nthat use it in theirs: Dominica and Nicaragua.', 'start': 177.7, 'duration': 6.48}, {'text': 'If you’ve seen snow in your lifetime, consider\\nyourself lucky: two-thirds of people on the', 'start': 184.18, 'duration': 4.9}, {'text': 'planet can’t say the same about themselves.', 'start': 189.08, 'duration': 4.659}, {'text': 'Domestic chicken is the closest relative of\\ndinosaurs.', 'start': 193.739, 'duration': 3.14}, {'text': 'Yes, including the mighty T-Rex.', 'start': 196.879, 'duration': 4.651}, {'text': 'Leaves on trees turn yellow and red come fall\\nbecause they don’t have enough warmth and', 'start': 201.53, 'duration': 4.65}, {'text': 'sunlight to produce the green pigment — chlorophyll.', 'start': 206.18, 'duration': 3.209}, {'text': 'Cold nights and bright sunny days mean more\\nvibrant colors.', 'start': 209.389, 'duration': 5.32}, {'text': 'Bart Simpson should be older now than his\\nmother was in the first season of the show.', 'start': 214.709, 'duration': 4.31}, {'text': 'That is, if the yellow family aged normally.', 'start': 219.019, 'duration': 2.851}, {'text': 'There’s a $20 coin made in 1933 that was\\nsold 70 years later for more than $7 billion.', 'start': 221.87, 'duration': 8.67}, {'text': 'Also, it was never actually used as currency.', 'start': 230.54, 'duration': 3.279}, {'text': 'Don’t ever suppress a sneeze if you don’t\\nabsolutely have to.', 'start': 233.819, 'duration': 4.631}, {'text': 'The pressure can result in a rupture of a\\nblood vessel in your head or neck, which can', 'start': 238.45, 'duration': 4.509}, {'text': 'lead to injury.', 'start': 242.959, 'duration': 1.64}, {'text': 'There’s a town in Honduras where every year,\\nat around the same time of the year, it rains', 'start': 244.599, 'duration': 6.181}, {'text': 'fish.', 'start': 250.78, 'duration': 1.28}, {'text': 'Scientists don’t have an explanation to\\nthis phenomenon yet.', 'start': 252.06, 'duration': 4.37}, {'text': 'Although there are 24 hours in a day, there\\nare more than 24 time zones on the globe.', 'start': 256.43, 'duration': 5.82}, {'text': 'Some of them are just 45 or even 30 minutes\\napart from their closest neighbors.', 'start': 262.25, 'duration': 6.05}, {'text': 'Jeep is actually an abbreviation: originally,\\nit was called a G.P., or a general purpose', 'start': 268.3, 'duration': 5.61}, {'text': 'vehicle.', 'start': 273.91, 'duration': 2.21}, {'text': 'The first Native American to greet the pilgrims,\\nwhose name was Samoset, could speak English', 'start': 276.12, 'duration': 5.41}, {'text': 'even before he met them.', 'start': 281.53, 'duration': 3.24}, {'text': 'Sweden is the largest island country in the\\nworld.', 'start': 284.77, 'duration': 2.59}, {'text': 'It has over 221,800 islands, only about a\\nthousand of which are inhabited.', 'start': 287.36, 'duration': 6.1}, {'text': 'A jellyfish melts in the sun because it’s\\n95% water.', 'start': 293.46, 'duration': 5.97}, {'text': 'Talk about cucumbers.', 'start': 299.43, 'duration': 3.18}, {'text': 'In 2012, twin girls Amy and Katie were born\\n87 days apart.', 'start': 302.61, 'duration': 5.07}, {'text': 'They’re now in the Guinness World Records\\nfor the longest gap between the birth of twins.', 'start': 307.68, 'duration': 6.81}, {'text': 'All pandas in the world’s zoos belong to\\nChina.', 'start': 314.49, 'duration': 2.829}, {'text': 'If you see a giant panda at a zoo, you can\\nbe sure it’s just a guest there.', 'start': 317.319, 'duration': 6.5}, {'text': 'If you were to watch every video on YouTube,\\nyou’d have to spend 1,000 years on that.', 'start': 323.819, 'duration': 5.121}, {'text': 'And then about 1,000 times more because of\\nall the new videos that would appear by then.', 'start': 328.94, 'duration': 6.33}, {'text': 'A mouse’s bones are so flexible it can fit\\ninto a ballpoint pen-sized hole.', 'start': 335.27, 'duration': 5.5}, {'text': 'If you cage one, make sure the grid is small\\nenough.', 'start': 340.77, 'duration': 4.8}, {'text': 'The most popular language in the world is\\nnot English, and by far.', 'start': 345.57, 'duration': 3.96}, {'text': 'The title belongs to Mandarin Chinese, with\\nover a billion speakers around the globe.', 'start': 349.53, 'duration': 6.31}, {'text': 'The record for the longest-lasting hiccups\\nbelongs to a man named Charles Osborne.', 'start': 355.84, 'duration': 5.579}, {'text': 'He had this condition for 69 years straight.', 'start': 361.419, 'duration': 5.191}, {'text': 'Human fingers are extremely sensitive as an\\nevolutionary perk.', 'start': 366.61, 'duration': 4.39}, {'text': 'If your fingertips were the size of Earth,\\nyou’d feel the difference between a one-story', 'start': 371.0, 'duration': 4.509}, {'text': 'house and a car.', 'start': 375.509, 'duration': 3.101}, {'text': 'China is home to the most bicycles in the\\nworld.', 'start': 378.61, 'duration': 2.779}, {'text': 'However, the most bike-friendly city is Copenhagen\\nin Denmark.', 'start': 381.389, 'duration': 4.34}, {'text': 'A giraffe’s tongue is so long the animal\\ncan clean its own ears with it.', 'start': 385.729, 'duration': 6.12}, {'text': 'Which it does every so often.', 'start': 391.849, 'duration': 1.781}, {'text': 'I am jealous.', 'start': 393.63, 'duration': 2.47}, {'text': 'A hummingbird’s heart beats at the average\\nrate of 1,200 beats per minute.', 'start': 396.1, 'duration': 5.01}, {'text': 'That’s 20 beats per second!', 'start': 401.11, 'duration': 3.36}, {'text': 'Only about 86% of the world’s adult population\\ncan read, and it’s considered a huge leap', 'start': 404.47, 'duration': 5.53}, {'text': 'forward compared to half a century ago.', 'start': 410.0, 'duration': 3.33}, {'text': 'Lobsters, due to their cold-blooded nature,\\ncan come back to life after being frozen and', 'start': 413.33, 'duration': 7.13}, {'text': 'thawed again.', 'start': 420.46, 'duration': 1.019}, {'text': 'And they are delicious.', 'start': 421.479, 'duration': 1.571}, {'text': 'Just sayin’.', 'start': 423.05, 'duration': 2.06}, {'text': 'Prairie dogs kiss each other to say “hi.”', 'start': 425.11, 'duration': 3.579}, {'text': 'Aww.', 'start': 428.689, 'duration': 1.63}, {'text': 'Facebook can qualify as a country of its own:\\ntoday, there are over 2 billion people using', 'start': 430.319, 'duration': 5.69}, {'text': 'it, which is more than the population of the\\nUS, China, and Brazil combined.', 'start': 436.009, 'duration': 6.521}, {'text': 'Africa is a challenger, though: by 2050, it’s\\nestimated to grow to 2.3 billion people living', 'start': 442.53, 'duration': 6.43}, {'text': 'there.', 'start': 448.96, 'duration': 1.81}, {'text': 'During a flight on an airplane, our sense\\nof smell and taste is 20 to 50% lower than', 'start': 450.77, 'duration': 5.63}, {'text': 'usual.', 'start': 456.4, 'duration': 1.0}, {'text': 'That’s why the food on board doesn’t seem\\ndelicious.', 'start': 457.4, 'duration': 4.169}, {'text': 'Japan is home to the oldest hotel in the world.', 'start': 461.569, 'duration': 2.6}, {'text': 'It’s been welcoming guests since 705 CE.', 'start': 464.169, 'duration': 5.72}, {'text': 'French was the official language of England\\nfor about 450 years.', 'start': 469.889, 'duration': 4.441}, {'text': 'In 1066, William the Conqueror, who was of\\nthe French origin, brought the language to', 'start': 474.33, 'duration': 5.53}, {'text': 'the country.', 'start': 479.86, 'duration': 2.47}, {'text': 'Some of the first graffiti of the similar\\nkind we have today appeared in Pompeii.', 'start': 482.33, 'duration': 5.23}, {'text': 'They date back almost 2,000 years.', 'start': 487.56, 'duration': 4.38}, {'text': 'The full name of Oz from the Wonderful Wizard\\nof Oz by L. Frank Baum was actually Oscar', 'start': 491.94, 'duration': 5.81}, {'text': 'Zoroaster Phadrig Isaac Norman Henkel Emmannuel\\nAmbroise Diggs.', 'start': 497.75, 'duration': 5.04}, {'text': 'Yeah, I can see why he shortened it to Oz\\n– less keystrokes.', 'start': 502.79, 'duration': 6.39}, {'text': 'Cows are highly social creatures, and they\\neven have best buddies they spend most of', 'start': 509.18, 'duration': 4.89}, {'text': 'their time together with.', 'start': 514.07, 'duration': 1.56}, {'text': 'They become upset if they get separated too.', 'start': 515.63, 'duration': 4.38}, {'text': 'In case you didn’t notice, goats have rectangular\\npupils.', 'start': 520.01, 'duration': 3.43}, {'text': 'And they’re the only animals with such an\\neye structure.', 'start': 523.44, 'duration': 3.91}, {'text': 'There’s archeological evidence of an extinct\\npenguin species that was about 6-foot tall.', 'start': 527.35, 'duration': 7.45}, {'text': 'Imagine a penguin looking you straight in\\nthe eye.', 'start': 534.8, 'duration': 2.92}, {'text': 'Hey, nice tux.', 'start': 537.72, 'duration': 2.05}, {'text': 'You too, pal.', 'start': 539.77, 'duration': 2.03}, {'text': 'It rains diamonds on Jupiter and Saturn.', 'start': 541.8, 'duration': 3.21}, {'text': 'This happens because methane turns into carbon,\\nwhich then hardens to become graphite and', 'start': 545.01, 'duration': 5.05}, {'text': 'eventually diamond.', 'start': 550.06, 'duration': 2.98}, {'text': 'High heels were originally men’s wear.', 'start': 553.04, 'duration': 2.48}, {'text': 'In Ancient Egypt, butchers wore them to avoid\\nblood on the floor.', 'start': 555.52, 'duration': 6.19}, {'text': 'Dogs don’t see the world in shades of gray.', 'start': 561.71, 'duration': 2.16}, {'text': 'In fact, they can see colors, just fewer of\\nthem than people.', 'start': 563.87, 'duration': 5.941}, {'text': 'The name of the man who invented cotton candy\\nwas William Morrison.', 'start': 569.811, 'duration': 3.709}, {'text': 'He was a dentist.', 'start': 573.52, 'duration': 2.19}, {'text': 'There’s a thunderstorm in Venezuela that\\noccurs every year and lasts for about 140-160', 'start': 575.71, 'duration': 6.92}, {'text': 'nights.', 'start': 582.63, 'duration': 1.36}, {'text': 'It even has a name: Catatumbo.', 'start': 583.99, 'duration': 4.24}, {'text': 'Michelangelo couldn’t stand painting the\\nSistine Chapel’s ceiling so much that he', 'start': 588.23, 'duration': 4.6}, {'text': 'even wrote a poem about it.', 'start': 592.83, 'duration': 3.44}, {'text': 'Ever got chills from listening to your favorite\\ntrack?', 'start': 596.27, 'duration': 2.62}, {'text': 'It’s because your brain reacts to it by\\nreleasing dopamine — the happiness hormone.', 'start': 598.89, 'duration': 5.89}, {'text': 'Figures.', 'start': 604.78, 'duration': 1.41}, {'text': 'You probably know that tomatoes are technically\\nberries, right?', 'start': 606.19, 'duration': 3.35}, {'text': 'Well, bananas, peppers, and eggplants are,\\ntoo.', 'start': 609.54, 'duration': 4.9}, {'text': 'John Cage, an avant-garde composer, wrote\\nthe longest musical piece in history.', 'start': 614.44, 'duration': 5.19}, {'text': 'It’s supposed to be played as slowly as\\npossible, and it’s estimated to take 639', 'start': 619.63, 'duration': 6.02}, {'text': 'years to play to the end.', 'start': 625.65, 'duration': 1.44}, {'text': 'Does the orchestra get paid overtime for that?', 'start': 627.09, 'duration': 1.78}, {'text': 'Black belt in martial arts, such as karate,\\ntranslates from Japanese as “first step.”', 'start': 628.87, 'duration': 5.6}, {'text': 'That’s because achieving the black belt\\nis just literally the first stage of mastering', 'start': 634.47, 'duration': 4.62}, {'text': 'the art, with much more to come yet.', 'start': 639.09, 'duration': 4.03}, {'text': 'Charlie Chaplin once entered a Charlie Chaplin\\nlookalike contest… and lost it!', 'start': 643.12, 'duration': 4.71}, {'text': 'The same happened with Dolly Parton almost\\na hundred years later, in 2012.', 'start': 647.83, 'duration': 5.83}, {'text': 'Mark Zuckerberg is red and green colorblind.', 'start': 653.66, 'duration': 2.41}, {'text': 'That’s why he designed Facebook in shades\\nof blue — that’s the color he can see', 'start': 656.07, 'duration': 4.26}, {'text': 'best.', 'start': 660.33, 'duration': 2.11}, {'text': 'Horseshoe crabs have a total of 10 eyes, two\\nof which are located right on its hard shell.', 'start': 662.44, 'duration': 5.52}, {'text': 'Well, what did you expect from a creature\\nthat’s called a living fossil?', 'start': 667.96, 'duration': 3.53}]\n"
     ]
    }
   ],
   "source": [
    "cap=YTA.get_transcript(videoid)\n",
    "print(cap)"
   ]
  },
  {
   "cell_type": "code",
   "execution_count": 39,
   "id": "606c858c",
   "metadata": {},
   "outputs": [],
   "source": [
    "text=[]\n",
    "for i in range(len(cap)):\n",
    "    text.append(cap[i]['text'])"
   ]
  },
  {
   "cell_type": "code",
   "execution_count": 40,
   "id": "903c4113",
   "metadata": {},
   "outputs": [
    {
     "data": {
      "text/plain": [
       "['There are more twins today than ever.',\n",
       " 'This is because the later you decide to give\\nbirth, the higher your chances to get twins',\n",
       " '— and people today tend to create families\\nlater than ever before.',\n",
       " 'There are more living things on and inside\\nyour body than there are people on Earth.',\n",
       " 'And not just twice or three times so — the\\nnumbers are simply mind-blowing.',\n",
       " 'Speaking of which, bacteria make up from 2\\nto 9 pounds of your body weight.',\n",
       " 'It’s hard to imagine how many of them there\\nare in your body.',\n",
       " 'If you have a kid, be prepared for question\\nbombardment: an average four-year-old asks',\n",
       " 'something over 400 times per day.',\n",
       " 'There’s a chili pepper that you can’t\\neat if you want to stay alive.',\n",
       " 'It’s never used in cooking, though: it was\\ndesigned as a painkiller.',\n",
       " 'Scientists believe Leonardo da Vinci could\\nwrite with one hand and draw pictures with',\n",
       " 'the other at the same time.',\n",
       " 'Talk about multitasking!',\n",
       " 'Your outer skin gets totally replaced each\\nmonth.',\n",
       " 'Overall, an average human sheds about 40 pounds\\nof skin throughout their life.',\n",
       " 'There’s a room in the Microsoft’s headquarters\\nin Washington that holds a world record for',\n",
       " 'being the quietest room in the world.',\n",
       " 'Standing inside it, you can hear your heart\\nbeating.',\n",
       " 'In August 2010, Beijing witnessed the longest\\ntraffic jam ever: it lasted 10 days and was',\n",
       " '62 mi long.',\n",
       " 'The Metric system is the most widely accepted\\nsystem of measurement in the world.',\n",
       " 'Only three countries still use the imperial\\nunits: Liberia, Myanmar, and the US.',\n",
       " 'John D. Rockefeller still holds the record\\nas the richest man in the world: his net worth,',\n",
       " 'adjusted for inflation, is 10 times more than\\nthat of Bill Gates.',\n",
       " 'Starfish can not only regenerate their lost\\nlimbs, but even a limb can regenerate the',\n",
       " 'whole starfish.',\n",
       " 'Thanks to the Montreal Protocol, signed in\\n1987, scientists believe the Earth’s ozone',\n",
       " 'layer will fully restore itself within half\\na century.',\n",
       " 'Yay!',\n",
       " 'In 2011, Forbes decided to estimate the net\\nworth of Scrooge McDuck.',\n",
       " 'They came to a conclusion that it was $44.1\\nbillion.',\n",
       " 'If taken together, all ants in the world will\\nweigh as much as the whole human population',\n",
       " 'of the planet, and then some.',\n",
       " 'Chicken are more than twice as numerous as\\nhumans.',\n",
       " 'In 2009, their overall number in the world\\nwas estimated to be 18.6 billion.',\n",
       " 'Purple is the least popular color when it\\ncomes to national flags.',\n",
       " 'There are just two countries in the world\\nthat use it in theirs: Dominica and Nicaragua.',\n",
       " 'If you’ve seen snow in your lifetime, consider\\nyourself lucky: two-thirds of people on the',\n",
       " 'planet can’t say the same about themselves.',\n",
       " 'Domestic chicken is the closest relative of\\ndinosaurs.',\n",
       " 'Yes, including the mighty T-Rex.',\n",
       " 'Leaves on trees turn yellow and red come fall\\nbecause they don’t have enough warmth and',\n",
       " 'sunlight to produce the green pigment — chlorophyll.',\n",
       " 'Cold nights and bright sunny days mean more\\nvibrant colors.',\n",
       " 'Bart Simpson should be older now than his\\nmother was in the first season of the show.',\n",
       " 'That is, if the yellow family aged normally.',\n",
       " 'There’s a $20 coin made in 1933 that was\\nsold 70 years later for more than $7 billion.',\n",
       " 'Also, it was never actually used as currency.',\n",
       " 'Don’t ever suppress a sneeze if you don’t\\nabsolutely have to.',\n",
       " 'The pressure can result in a rupture of a\\nblood vessel in your head or neck, which can',\n",
       " 'lead to injury.',\n",
       " 'There’s a town in Honduras where every year,\\nat around the same time of the year, it rains',\n",
       " 'fish.',\n",
       " 'Scientists don’t have an explanation to\\nthis phenomenon yet.',\n",
       " 'Although there are 24 hours in a day, there\\nare more than 24 time zones on the globe.',\n",
       " 'Some of them are just 45 or even 30 minutes\\napart from their closest neighbors.',\n",
       " 'Jeep is actually an abbreviation: originally,\\nit was called a G.P., or a general purpose',\n",
       " 'vehicle.',\n",
       " 'The first Native American to greet the pilgrims,\\nwhose name was Samoset, could speak English',\n",
       " 'even before he met them.',\n",
       " 'Sweden is the largest island country in the\\nworld.',\n",
       " 'It has over 221,800 islands, only about a\\nthousand of which are inhabited.',\n",
       " 'A jellyfish melts in the sun because it’s\\n95% water.',\n",
       " 'Talk about cucumbers.',\n",
       " 'In 2012, twin girls Amy and Katie were born\\n87 days apart.',\n",
       " 'They’re now in the Guinness World Records\\nfor the longest gap between the birth of twins.',\n",
       " 'All pandas in the world’s zoos belong to\\nChina.',\n",
       " 'If you see a giant panda at a zoo, you can\\nbe sure it’s just a guest there.',\n",
       " 'If you were to watch every video on YouTube,\\nyou’d have to spend 1,000 years on that.',\n",
       " 'And then about 1,000 times more because of\\nall the new videos that would appear by then.',\n",
       " 'A mouse’s bones are so flexible it can fit\\ninto a ballpoint pen-sized hole.',\n",
       " 'If you cage one, make sure the grid is small\\nenough.',\n",
       " 'The most popular language in the world is\\nnot English, and by far.',\n",
       " 'The title belongs to Mandarin Chinese, with\\nover a billion speakers around the globe.',\n",
       " 'The record for the longest-lasting hiccups\\nbelongs to a man named Charles Osborne.',\n",
       " 'He had this condition for 69 years straight.',\n",
       " 'Human fingers are extremely sensitive as an\\nevolutionary perk.',\n",
       " 'If your fingertips were the size of Earth,\\nyou’d feel the difference between a one-story',\n",
       " 'house and a car.',\n",
       " 'China is home to the most bicycles in the\\nworld.',\n",
       " 'However, the most bike-friendly city is Copenhagen\\nin Denmark.',\n",
       " 'A giraffe’s tongue is so long the animal\\ncan clean its own ears with it.',\n",
       " 'Which it does every so often.',\n",
       " 'I am jealous.',\n",
       " 'A hummingbird’s heart beats at the average\\nrate of 1,200 beats per minute.',\n",
       " 'That’s 20 beats per second!',\n",
       " 'Only about 86% of the world’s adult population\\ncan read, and it’s considered a huge leap',\n",
       " 'forward compared to half a century ago.',\n",
       " 'Lobsters, due to their cold-blooded nature,\\ncan come back to life after being frozen and',\n",
       " 'thawed again.',\n",
       " 'And they are delicious.',\n",
       " 'Just sayin’.',\n",
       " 'Prairie dogs kiss each other to say “hi.”',\n",
       " 'Aww.',\n",
       " 'Facebook can qualify as a country of its own:\\ntoday, there are over 2 billion people using',\n",
       " 'it, which is more than the population of the\\nUS, China, and Brazil combined.',\n",
       " 'Africa is a challenger, though: by 2050, it’s\\nestimated to grow to 2.3 billion people living',\n",
       " 'there.',\n",
       " 'During a flight on an airplane, our sense\\nof smell and taste is 20 to 50% lower than',\n",
       " 'usual.',\n",
       " 'That’s why the food on board doesn’t seem\\ndelicious.',\n",
       " 'Japan is home to the oldest hotel in the world.',\n",
       " 'It’s been welcoming guests since 705 CE.',\n",
       " 'French was the official language of England\\nfor about 450 years.',\n",
       " 'In 1066, William the Conqueror, who was of\\nthe French origin, brought the language to',\n",
       " 'the country.',\n",
       " 'Some of the first graffiti of the similar\\nkind we have today appeared in Pompeii.',\n",
       " 'They date back almost 2,000 years.',\n",
       " 'The full name of Oz from the Wonderful Wizard\\nof Oz by L. Frank Baum was actually Oscar',\n",
       " 'Zoroaster Phadrig Isaac Norman Henkel Emmannuel\\nAmbroise Diggs.',\n",
       " 'Yeah, I can see why he shortened it to Oz\\n– less keystrokes.',\n",
       " 'Cows are highly social creatures, and they\\neven have best buddies they spend most of',\n",
       " 'their time together with.',\n",
       " 'They become upset if they get separated too.',\n",
       " 'In case you didn’t notice, goats have rectangular\\npupils.',\n",
       " 'And they’re the only animals with such an\\neye structure.',\n",
       " 'There’s archeological evidence of an extinct\\npenguin species that was about 6-foot tall.',\n",
       " 'Imagine a penguin looking you straight in\\nthe eye.',\n",
       " 'Hey, nice tux.',\n",
       " 'You too, pal.',\n",
       " 'It rains diamonds on Jupiter and Saturn.',\n",
       " 'This happens because methane turns into carbon,\\nwhich then hardens to become graphite and',\n",
       " 'eventually diamond.',\n",
       " 'High heels were originally men’s wear.',\n",
       " 'In Ancient Egypt, butchers wore them to avoid\\nblood on the floor.',\n",
       " 'Dogs don’t see the world in shades of gray.',\n",
       " 'In fact, they can see colors, just fewer of\\nthem than people.',\n",
       " 'The name of the man who invented cotton candy\\nwas William Morrison.',\n",
       " 'He was a dentist.',\n",
       " 'There’s a thunderstorm in Venezuela that\\noccurs every year and lasts for about 140-160',\n",
       " 'nights.',\n",
       " 'It even has a name: Catatumbo.',\n",
       " 'Michelangelo couldn’t stand painting the\\nSistine Chapel’s ceiling so much that he',\n",
       " 'even wrote a poem about it.',\n",
       " 'Ever got chills from listening to your favorite\\ntrack?',\n",
       " 'It’s because your brain reacts to it by\\nreleasing dopamine — the happiness hormone.',\n",
       " 'Figures.',\n",
       " 'You probably know that tomatoes are technically\\nberries, right?',\n",
       " 'Well, bananas, peppers, and eggplants are,\\ntoo.',\n",
       " 'John Cage, an avant-garde composer, wrote\\nthe longest musical piece in history.',\n",
       " 'It’s supposed to be played as slowly as\\npossible, and it’s estimated to take 639',\n",
       " 'years to play to the end.',\n",
       " 'Does the orchestra get paid overtime for that?',\n",
       " 'Black belt in martial arts, such as karate,\\ntranslates from Japanese as “first step.”',\n",
       " 'That’s because achieving the black belt\\nis just literally the first stage of mastering',\n",
       " 'the art, with much more to come yet.',\n",
       " 'Charlie Chaplin once entered a Charlie Chaplin\\nlookalike contest… and lost it!',\n",
       " 'The same happened with Dolly Parton almost\\na hundred years later, in 2012.',\n",
       " 'Mark Zuckerberg is red and green colorblind.',\n",
       " 'That’s why he designed Facebook in shades\\nof blue — that’s the color he can see',\n",
       " 'best.',\n",
       " 'Horseshoe crabs have a total of 10 eyes, two\\nof which are located right on its hard shell.',\n",
       " 'Well, what did you expect from a creature\\nthat’s called a living fossil?']"
      ]
     },
     "execution_count": 40,
     "metadata": {},
     "output_type": "execute_result"
    }
   ],
   "source": [
    "text"
   ]
  },
  {
   "cell_type": "code",
   "execution_count": 41,
   "id": "ab67c4b4",
   "metadata": {},
   "outputs": [],
   "source": [
    "from transformers import pipeline"
   ]
  },
  {
   "cell_type": "code",
   "execution_count": 42,
   "id": "b9c89a7f",
   "metadata": {},
   "outputs": [
    {
     "name": "stderr",
     "output_type": "stream",
     "text": [
      "No model was supplied, defaulted to distilbert-base-cased-distilled-squad and revision 626af31 (https://huggingface.co/distilbert-base-cased-distilled-squad).\n",
      "Using a pipeline without specifying a model name and revision in production is not recommended.\n",
      "Some layers from the model checkpoint at distilbert-base-cased-distilled-squad were not used when initializing TFDistilBertForQuestionAnswering: ['dropout_19']\n",
      "- This IS expected if you are initializing TFDistilBertForQuestionAnswering from the checkpoint of a model trained on another task or with another architecture (e.g. initializing a BertForSequenceClassification model from a BertForPreTraining model).\n",
      "- This IS NOT expected if you are initializing TFDistilBertForQuestionAnswering from the checkpoint of a model that you expect to be exactly identical (initializing a BertForSequenceClassification model from a BertForSequenceClassification model).\n",
      "Some layers of TFDistilBertForQuestionAnswering were not initialized from the model checkpoint at distilbert-base-cased-distilled-squad and are newly initialized: ['dropout_39']\n",
      "You should probably TRAIN this model on a down-stream task to be able to use it for predictions and inference.\n"
     ]
    }
   ],
   "source": [
    "question_answerer = pipeline(\"question-answering\")"
   ]
  },
  {
   "cell_type": "code",
   "execution_count": 43,
   "id": "945b258f",
   "metadata": {},
   "outputs": [
    {
     "data": {
      "text/plain": [
       "' There are more twins today than ever. This is because the later you decide to give\\nbirth, the higher your chances to get twins — and people today tend to create families\\nlater than ever before. There are more living things on and inside\\nyour body than there are people on Earth. And not just twice or three times so — the\\nnumbers are simply mind-blowing. Speaking of which, bacteria make up from 2\\nto 9 pounds of your body weight. It’s hard to imagine how many of them there\\nare in your body. If you have a kid, be prepared for question\\nbombardment: an average four-year-old asks something over 400 times per day. There’s a chili pepper that you can’t\\neat if you want to stay alive. It’s never used in cooking, though: it was\\ndesigned as a painkiller. Scientists believe Leonardo da Vinci could\\nwrite with one hand and draw pictures with the other at the same time. Talk about multitasking! Your outer skin gets totally replaced each\\nmonth. Overall, an average human sheds about 40 pounds\\nof skin throughout their life. There’s a room in the Microsoft’s headquarters\\nin Washington that holds a world record for being the quietest room in the world. Standing inside it, you can hear your heart\\nbeating. In August 2010, Beijing witnessed the longest\\ntraffic jam ever: it lasted 10 days and was 62 mi long. The Metric system is the most widely accepted\\nsystem of measurement in the world. Only three countries still use the imperial\\nunits: Liberia, Myanmar, and the US. John D. Rockefeller still holds the record\\nas the richest man in the world: his net worth, adjusted for inflation, is 10 times more than\\nthat of Bill Gates. Starfish can not only regenerate their lost\\nlimbs, but even a limb can regenerate the whole starfish. Thanks to the Montreal Protocol, signed in\\n1987, scientists believe the Earth’s ozone layer will fully restore itself within half\\na century. Yay! In 2011, Forbes decided to estimate the net\\nworth of Scrooge McDuck. They came to a conclusion that it was $44.1\\nbillion. If taken together, all ants in the world will\\nweigh as much as the whole human population of the planet, and then some. Chicken are more than twice as numerous as\\nhumans. In 2009, their overall number in the world\\nwas estimated to be 18.6 billion. Purple is the least popular color when it\\ncomes to national flags. There are just two countries in the world\\nthat use it in theirs: Dominica and Nicaragua. If you’ve seen snow in your lifetime, consider\\nyourself lucky: two-thirds of people on the planet can’t say the same about themselves. Domestic chicken is the closest relative of\\ndinosaurs. Yes, including the mighty T-Rex. Leaves on trees turn yellow and red come fall\\nbecause they don’t have enough warmth and sunlight to produce the green pigment — chlorophyll. Cold nights and bright sunny days mean more\\nvibrant colors. Bart Simpson should be older now than his\\nmother was in the first season of the show. That is, if the yellow family aged normally. There’s a $20 coin made in 1933 that was\\nsold 70 years later for more than $7 billion. Also, it was never actually used as currency. Don’t ever suppress a sneeze if you don’t\\nabsolutely have to. The pressure can result in a rupture of a\\nblood vessel in your head or neck, which can lead to injury. There’s a town in Honduras where every year,\\nat around the same time of the year, it rains fish. Scientists don’t have an explanation to\\nthis phenomenon yet. Although there are 24 hours in a day, there\\nare more than 24 time zones on the globe. Some of them are just 45 or even 30 minutes\\napart from their closest neighbors. Jeep is actually an abbreviation: originally,\\nit was called a G.P., or a general purpose vehicle. The first Native American to greet the pilgrims,\\nwhose name was Samoset, could speak English even before he met them. Sweden is the largest island country in the\\nworld. It has over 221,800 islands, only about a\\nthousand of which are inhabited. A jellyfish melts in the sun because it’s\\n95% water. Talk about cucumbers. In 2012, twin girls Amy and Katie were born\\n87 days apart. They’re now in the Guinness World Records\\nfor the longest gap between the birth of twins. All pandas in the world’s zoos belong to\\nChina. If you see a giant panda at a zoo, you can\\nbe sure it’s just a guest there. If you were to watch every video on YouTube,\\nyou’d have to spend 1,000 years on that. And then about 1,000 times more because of\\nall the new videos that would appear by then. A mouse’s bones are so flexible it can fit\\ninto a ballpoint pen-sized hole. If you cage one, make sure the grid is small\\nenough. The most popular language in the world is\\nnot English, and by far. The title belongs to Mandarin Chinese, with\\nover a billion speakers around the globe. The record for the longest-lasting hiccups\\nbelongs to a man named Charles Osborne. He had this condition for 69 years straight. Human fingers are extremely sensitive as an\\nevolutionary perk. If your fingertips were the size of Earth,\\nyou’d feel the difference between a one-story house and a car. China is home to the most bicycles in the\\nworld. However, the most bike-friendly city is Copenhagen\\nin Denmark. A giraffe’s tongue is so long the animal\\ncan clean its own ears with it. Which it does every so often. I am jealous. A hummingbird’s heart beats at the average\\nrate of 1,200 beats per minute. That’s 20 beats per second! Only about 86% of the world’s adult population\\ncan read, and it’s considered a huge leap forward compared to half a century ago. Lobsters, due to their cold-blooded nature,\\ncan come back to life after being frozen and thawed again. And they are delicious. Just sayin’. Prairie dogs kiss each other to say “hi.” Aww. Facebook can qualify as a country of its own:\\ntoday, there are over 2 billion people using it, which is more than the population of the\\nUS, China, and Brazil combined. Africa is a challenger, though: by 2050, it’s\\nestimated to grow to 2.3 billion people living there. During a flight on an airplane, our sense\\nof smell and taste is 20 to 50% lower than usual. That’s why the food on board doesn’t seem\\ndelicious. Japan is home to the oldest hotel in the world. It’s been welcoming guests since 705 CE. French was the official language of England\\nfor about 450 years. In 1066, William the Conqueror, who was of\\nthe French origin, brought the language to the country. Some of the first graffiti of the similar\\nkind we have today appeared in Pompeii. They date back almost 2,000 years. The full name of Oz from the Wonderful Wizard\\nof Oz by L. Frank Baum was actually Oscar Zoroaster Phadrig Isaac Norman Henkel Emmannuel\\nAmbroise Diggs. Yeah, I can see why he shortened it to Oz\\n– less keystrokes. Cows are highly social creatures, and they\\neven have best buddies they spend most of their time together with. They become upset if they get separated too. In case you didn’t notice, goats have rectangular\\npupils. And they’re the only animals with such an\\neye structure. There’s archeological evidence of an extinct\\npenguin species that was about 6-foot tall. Imagine a penguin looking you straight in\\nthe eye. Hey, nice tux. You too, pal. It rains diamonds on Jupiter and Saturn. This happens because methane turns into carbon,\\nwhich then hardens to become graphite and eventually diamond. High heels were originally men’s wear. In Ancient Egypt, butchers wore them to avoid\\nblood on the floor. Dogs don’t see the world in shades of gray. In fact, they can see colors, just fewer of\\nthem than people. The name of the man who invented cotton candy\\nwas William Morrison. He was a dentist. There’s a thunderstorm in Venezuela that\\noccurs every year and lasts for about 140-160 nights. It even has a name: Catatumbo. Michelangelo couldn’t stand painting the\\nSistine Chapel’s ceiling so much that he even wrote a poem about it. Ever got chills from listening to your favorite\\ntrack? It’s because your brain reacts to it by\\nreleasing dopamine — the happiness hormone. Figures. You probably know that tomatoes are technically\\nberries, right? Well, bananas, peppers, and eggplants are,\\ntoo. John Cage, an avant-garde composer, wrote\\nthe longest musical piece in history. It’s supposed to be played as slowly as\\npossible, and it’s estimated to take 639 years to play to the end. Does the orchestra get paid overtime for that? Black belt in martial arts, such as karate,\\ntranslates from Japanese as “first step.” That’s because achieving the black belt\\nis just literally the first stage of mastering the art, with much more to come yet. Charlie Chaplin once entered a Charlie Chaplin\\nlookalike contest… and lost it! The same happened with Dolly Parton almost\\na hundred years later, in 2012. Mark Zuckerberg is red and green colorblind. That’s why he designed Facebook in shades\\nof blue — that’s the color he can see best. Horseshoe crabs have a total of 10 eyes, two\\nof which are located right on its hard shell. Well, what did you expect from a creature\\nthat’s called a living fossil?'"
      ]
     },
     "execution_count": 43,
     "metadata": {},
     "output_type": "execute_result"
    }
   ],
   "source": [
    "sent=\"\"\n",
    "for a in text:\n",
    "    sent=sent+' '+a\n",
    "sent"
   ]
  },
  {
   "cell_type": "code",
   "execution_count": 63,
   "id": "977e75d3",
   "metadata": {},
   "outputs": [
    {
     "name": "stdout",
     "output_type": "stream",
     "text": [
      "Question: Who could write with on hand and draw pictures with another\n"
     ]
    }
   ],
   "source": [
    "quest= input(\"Question: \")"
   ]
  },
  {
   "cell_type": "code",
   "execution_count": 64,
   "id": "41b2f967",
   "metadata": {},
   "outputs": [],
   "source": [
    "result = question_answerer(question=quest, context=sent)"
   ]
  },
  {
   "cell_type": "code",
   "execution_count": 65,
   "id": "fb7626d2",
   "metadata": {},
   "outputs": [
    {
     "data": {
      "text/plain": [
       "{'score': 0.992420494556427,\n",
       " 'start': 772,\n",
       " 'end': 789,\n",
       " 'answer': 'Leonardo da Vinci'}"
      ]
     },
     "execution_count": 65,
     "metadata": {},
     "output_type": "execute_result"
    }
   ],
   "source": [
    "result"
   ]
  },
  {
   "cell_type": "code",
   "execution_count": 66,
   "id": "c68246ac",
   "metadata": {},
   "outputs": [
    {
     "name": "stdout",
     "output_type": "stream",
     "text": [
      "55.2\n"
     ]
    }
   ],
   "source": [
    "for i in range(len(cap)):\n",
    "    for j in range(len(cap)):\n",
    "        s=result['answer'].split()\n",
    "        if (len(s)>2):\n",
    "            k=(s[0]+' '+s[1]+' '+s[2])\n",
    "        else: k=' '.join(s)\n",
    "        if k in cap[i]['text']:\n",
    "                print(cap[i]['start'])\n",
    "                time=int(cap[i]['start'])\n",
    "                break\n"
   ]
  },
  {
   "cell_type": "code",
   "execution_count": 67,
   "id": "db3858c8",
   "metadata": {},
   "outputs": [
    {
     "name": "stdout",
     "output_type": "stream",
     "text": [
      "00h00m55s\n"
     ]
    }
   ],
   "source": [
    "# calculate the hours, minutes, and seconds\n",
    "hours = int(time// 3600)\n",
    "minutes = int((time % 3600) // 60)\n",
    "seconds = int(time % 60)\n",
    "\n",
    "# format the duration as \"hh:mm:ss\" text\n",
    "duration_text = f\"{hours:02d}h{minutes:02d}m{seconds:02d}s\"\n",
    "\n",
    "# print the duration text\n",
    "print(duration_text)"
   ]
  },
  {
   "cell_type": "code",
   "execution_count": 68,
   "id": "dd02d56e",
   "metadata": {},
   "outputs": [
    {
     "name": "stdout",
     "output_type": "stream",
     "text": [
      "https://www.youtube.com/watch?v=3te6TZztQ00&t=00h00m55s\n"
     ]
    }
   ],
   "source": [
    "timestamp =duration_text  # replace with the desired timestamp in the format \"XmYs\" (X = minutes, Y = seconds)\n",
    "\n",
    "# generate the YouTube link with the specified timestamp\n",
    "youtube_link = f\"https://www.youtube.com/watch?v={videoid}&t={timestamp}\"\n",
    "\n",
    "# print the generated link\n",
    "print(youtube_link)"
   ]
  },
  {
   "cell_type": "code",
   "execution_count": null,
   "id": "0f4d1b20",
   "metadata": {},
   "outputs": [],
   "source": []
  },
  {
   "cell_type": "code",
   "execution_count": null,
   "id": "641a8edf",
   "metadata": {},
   "outputs": [],
   "source": []
  }
 ],
 "metadata": {
  "kernelspec": {
   "display_name": "Python 3 (ipykernel)",
   "language": "python",
   "name": "python3"
  },
  "language_info": {
   "codemirror_mode": {
    "name": "ipython",
    "version": 3
   },
   "file_extension": ".py",
   "mimetype": "text/x-python",
   "name": "python",
   "nbconvert_exporter": "python",
   "pygments_lexer": "ipython3",
   "version": "3.9.7"
  }
 },
 "nbformat": 4,
 "nbformat_minor": 5
}
